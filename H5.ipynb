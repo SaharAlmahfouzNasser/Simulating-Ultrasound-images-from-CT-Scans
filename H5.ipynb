{
 "cells": [
  {
   "cell_type": "code",
   "execution_count": 1,
   "id": "449b5ec4",
   "metadata": {},
   "outputs": [],
   "source": [
    "import numpy as np\n",
    "import h5py\n",
    "import matplotlib.pyplot as plt\n",
    "import PIL\n",
    "from PIL import Image\n",
    "import os"
   ]
  },
  {
   "cell_type": "code",
   "execution_count": 2,
   "id": "3bad48a8",
   "metadata": {},
   "outputs": [],
   "source": [
    "f1 = h5py.File('./data/anastasio2D-TrueModel-prostate-1-001-Copy1.h5', 'r+') "
   ]
  },
  {
   "cell_type": "code",
   "execution_count": 3,
   "id": "c0f06188",
   "metadata": {},
   "outputs": [
    {
     "name": "stdout",
     "output_type": "stream",
     "text": [
      "<HDF5 dataset \"data\": shape (356, 385), type \"<f4\">\n"
     ]
    }
   ],
   "source": [
    "data = f1['data'] \n",
    "print(data)"
   ]
  },
  {
   "cell_type": "code",
   "execution_count": 4,
   "id": "7b53c4d2",
   "metadata": {},
   "outputs": [
    {
     "name": "stdout",
     "output_type": "stream",
     "text": [
      "[1549.3 1549.3 1549.3 1549.3 1549.3 1549.3 1549.3 1549.3 1500.  1567.6\n",
      " 1595.  1585.7 1588.4 1588.4 1595.  1500.  1588.4 1500.  1588.4 1588.4\n",
      " 1639.6 1639.6 1588.4 1588.4 1588.4 1588.4 1629.  1639.6 1588.4 1639.6\n",
      " 1588.4 1588.4 1639.6 1639.6 1588.4 1588.4 1629.  1629.  1629.  1639.6\n",
      " 1639.6 1639.6 1624.  1624.  1624.  1624.  1624.  1624.  1624.  1624.\n",
      " 1750.  1750.  1750.  2117.5 1400.  1400.  1400.  1400.  1400.  1400.\n",
      " 1400.  1400.  1400.  1400.  1400.  1400.  1400.  1400.  1400.  1400.\n",
      " 1400.  1400.  1400.  1400.  1400.  1400.  1400.  1400.  1400.  1400.\n",
      " 1400.  1400.  1400.  1400.  1400.  1400.  1400.  1400.  1400.  1400.\n",
      " 1400.  1400.  1400.  1400.  1400.  1400.  1400.  1400.  1400.  1400.\n",
      " 1400.  1400.  1400.  1400.  1400.  1400.  1400.  1400.  1400.  1400.\n",
      " 1400.  1400.  1400.  1400.  1400.  1400.  1400.  1400.  1400.  1400.\n",
      " 1400.  1400.  1400.  1400.  1400.  1525.8 1400.  1525.8 1400.  1400.\n",
      " 1400.  1400.  1400.  1525.8 1504.5 1525.8 1525.8 1525.8 1525.8 1525.8\n",
      " 1525.8 1525.8 1400.  1525.8 1525.8 1500.  1400.  1525.8 1504.5 1525.8\n",
      " 1525.8 1504.5 1525.8 1525.8 1504.5 1525.8 1525.8 1525.8 1504.5 1500.\n",
      " 1500.  1504.5 1525.8 1504.5 1504.5 1504.5 1504.5 1504.5 1500.  1500.\n",
      " 1525.8 1504.5 1500.  1504.5 1504.5 1500.  1500.  1504.5 1504.5 1500.\n",
      " 1500.  1525.8 1525.8 1500.  1500.  1500.  1500.  1500.  1500.  1504.5\n",
      " 1500.  1500.  1500.  1504.5 1500.  1513.1 1500.  1504.5 1500.  1500.\n",
      " 1500.  1500.  1500.  1504.5 1500.  1500.  1500.  1500.  1504.5 1500.\n",
      " 1500.  1500.  1500.  1500.  1549.3 1500.  1500.  1500.  1500.  1500.\n",
      " 1500.  1500.  1500.  1500.  1500.  1500.  1500.  1500.  1500.  1500.\n",
      " 1500.  1500.  1500.  1500.  1500.  1500.  1549.3 1500.  1500.  1500.\n",
      " 1500.  1500.  1549.3 1549.3 1549.3 1500.  1513.1 1500.  1500.  1500.\n",
      " 1500.  1500.  1500.  1504.5 1500.  1549.3 1500.  1549.3 1513.1 1500.\n",
      " 1500.  1549.3 1549.3 1500.  1500.  1500.  1500.  1549.3 1500.  1549.3\n",
      " 1513.1 1500.  1549.3 1500.  1500.  1549.3 1549.3 1513.1 1513.1 1500.\n",
      " 1549.3 1500.  1500.  1500.  1513.1 1500.  1513.1 1549.3 1500.  1500.\n",
      " 1549.3 1500.  1513.1 1513.1 1500.  1513.1 1513.1 1549.3 1549.3 1500.\n",
      " 1549.3 1549.3 1500.  1513.1 1500.  1549.3 1500.  1500.  1500.  1500.\n",
      " 1638.8 1638.8 1545.  1450.  1545.  1513.1 1500.  1545.  1500.  1500.\n",
      " 1545.  1500.  1500.  1450.  1638.8 1638.8 1500.  1450.  1500.  1450.\n",
      " 1450.  1450.  1500.  1500.  1500.  1500.  1500.  1638.8 1586.  1400.\n",
      " 1638.8 1638.8 1586.  1500.  1500.  1638.8 1500.  1638.8 1638.8 1638.8\n",
      " 1586.  1638.8 1638.8 1586.  1586.  1400.  1400.  1400.  1586.  1638.8\n",
      " 1638.8 1638.8 1400.  1638.8 1638.8 1586.  1638.8 1586.  1586.  1400.\n",
      " 1586.  1400.  1586.  1638.8 1586.  1586.  1549.3 1549.3 1549.3 1549.3\n",
      " 1549.3 1549.3 1549.3 1549.3 1549.3]\n"
     ]
    }
   ],
   "source": [
    "print(data[0])"
   ]
  },
  {
   "cell_type": "code",
   "execution_count": 5,
   "id": "ea734628",
   "metadata": {},
   "outputs": [
    {
     "name": "stdout",
     "output_type": "stream",
     "text": [
      "<class 'numpy.float32'>\n"
     ]
    }
   ],
   "source": [
    "print(type(data[0][0]))"
   ]
  },
  {
   "cell_type": "code",
   "execution_count": 6,
   "id": "0b888903",
   "metadata": {},
   "outputs": [
    {
     "name": "stdout",
     "output_type": "stream",
     "text": [
      "(356, 385)\n"
     ]
    }
   ],
   "source": [
    "print(data[...].shape)"
   ]
  },
  {
   "cell_type": "code",
   "execution_count": 7,
   "id": "77a15218",
   "metadata": {},
   "outputs": [
    {
     "data": {
      "text/plain": [
       "<KeysViewHDF5 ['is_list', 'is_ndarray', 'is_str', 'is_tuple']>"
      ]
     },
     "execution_count": 7,
     "metadata": {},
     "output_type": "execute_result"
    }
   ],
   "source": [
    "data.attrs.keys()"
   ]
  },
  {
   "cell_type": "code",
   "execution_count": 8,
   "id": "49441c49",
   "metadata": {},
   "outputs": [
    {
     "name": "stdout",
     "output_type": "stream",
     "text": [
      "<KeysViewHDF5 ['data', 'dtype', 'extended_shape', 'inner', 'shape', 'space', 'time', 'time_dependent']>\n"
     ]
    }
   ],
   "source": [
    "print(f1.keys())"
   ]
  },
  {
   "cell_type": "code",
   "execution_count": 9,
   "id": "35efd6ca",
   "metadata": {},
   "outputs": [
    {
     "name": "stdout",
     "output_type": "stream",
     "text": [
      "<HDF5 dataset \"dtype\": shape (), type \"|O\">\n"
     ]
    }
   ],
   "source": [
    "dt = f1['dtype']\n",
    "print(dt)"
   ]
  },
  {
   "cell_type": "code",
   "execution_count": 10,
   "id": "577560a3",
   "metadata": {},
   "outputs": [
    {
     "data": {
      "text/plain": [
       "<KeysViewHDF5 ['is_list', 'is_ndarray', 'is_str', 'is_tuple']>"
      ]
     },
     "execution_count": 10,
     "metadata": {},
     "output_type": "execute_result"
    }
   ],
   "source": [
    "dt.attrs.keys()"
   ]
  },
  {
   "cell_type": "code",
   "execution_count": 11,
   "id": "3a92b3cb",
   "metadata": {},
   "outputs": [
    {
     "name": "stdout",
     "output_type": "stream",
     "text": [
      "<HDF5 dataset \"extended_shape\": shape (2,), type \"<i8\">\n"
     ]
    }
   ],
   "source": [
    "es = f1['extended_shape']\n",
    "print(es)"
   ]
  },
  {
   "cell_type": "code",
   "execution_count": 12,
   "id": "30bd7cb3",
   "metadata": {},
   "outputs": [
    {
     "data": {
      "text/plain": [
       "<KeysViewHDF5 ['is_list', 'is_ndarray', 'is_str', 'is_tuple']>"
      ]
     },
     "execution_count": 12,
     "metadata": {},
     "output_type": "execute_result"
    }
   ],
   "source": [
    "es.attrs.keys()"
   ]
  },
  {
   "cell_type": "code",
   "execution_count": 13,
   "id": "5fa2a2eb",
   "metadata": {},
   "outputs": [
    {
     "name": "stdout",
     "output_type": "stream",
     "text": [
      "<HDF5 dataset \"inner\": shape (2, 3), type \"|O\">\n"
     ]
    }
   ],
   "source": [
    "inn = f1['inner']\n",
    "print(inn)"
   ]
  },
  {
   "cell_type": "code",
   "execution_count": 14,
   "id": "11e39472",
   "metadata": {},
   "outputs": [
    {
     "data": {
      "text/plain": [
       "<KeysViewHDF5 ['is_list', 'is_ndarray', 'is_str', 'is_tuple']>"
      ]
     },
     "execution_count": 14,
     "metadata": {},
     "output_type": "execute_result"
    }
   ],
   "source": [
    "inn.attrs.keys()"
   ]
  },
  {
   "cell_type": "code",
   "execution_count": 15,
   "id": "62c199f3",
   "metadata": {},
   "outputs": [
    {
     "name": "stdout",
     "output_type": "stream",
     "text": [
      "<HDF5 dataset \"shape\": shape (2,), type \"<i8\">\n"
     ]
    }
   ],
   "source": [
    "sh = f1['shape']\n",
    "print(sh)"
   ]
  },
  {
   "cell_type": "code",
   "execution_count": 16,
   "id": "148ccaa6",
   "metadata": {},
   "outputs": [
    {
     "data": {
      "text/plain": [
       "<KeysViewHDF5 ['is_list', 'is_ndarray', 'is_str', 'is_tuple']>"
      ]
     },
     "execution_count": 16,
     "metadata": {},
     "output_type": "execute_result"
    }
   ],
   "source": [
    "sh.attrs.keys()"
   ]
  },
  {
   "cell_type": "code",
   "execution_count": 17,
   "id": "d743953d",
   "metadata": {},
   "outputs": [
    {
     "name": "stdout",
     "output_type": "stream",
     "text": [
      "<HDF5 group \"/space\" (4 members)>\n"
     ]
    }
   ],
   "source": [
    "s = f1['space']\n",
    "print(s)"
   ]
  },
  {
   "cell_type": "code",
   "execution_count": 18,
   "id": "66f49cab",
   "metadata": {},
   "outputs": [
    {
     "data": {
      "text/plain": [
       "<KeysViewHDF5 ['is_array']>"
      ]
     },
     "execution_count": 18,
     "metadata": {},
     "output_type": "execute_result"
    }
   ],
   "source": [
    "s.attrs.keys()"
   ]
  },
  {
   "cell_type": "code",
   "execution_count": 19,
   "id": "06cadd46",
   "metadata": {},
   "outputs": [
    {
     "name": "stdout",
     "output_type": "stream",
     "text": [
      "<KeysViewHDF5 ['absorbing', 'extra', 'shape', 'spacing']>\n"
     ]
    }
   ],
   "source": [
    "print(s.keys())"
   ]
  },
  {
   "cell_type": "code",
   "execution_count": 20,
   "id": "e7aa0849",
   "metadata": {},
   "outputs": [
    {
     "name": "stdout",
     "output_type": "stream",
     "text": [
      "<HDF5 group \"/time\" (4 members)>\n"
     ]
    }
   ],
   "source": [
    "t = f1['time']\n",
    "print(t)"
   ]
  },
  {
   "cell_type": "code",
   "execution_count": 21,
   "id": "5b3acde0",
   "metadata": {},
   "outputs": [
    {
     "data": {
      "text/plain": [
       "<KeysViewHDF5 ['is_array']>"
      ]
     },
     "execution_count": 21,
     "metadata": {},
     "output_type": "execute_result"
    }
   ],
   "source": [
    "t.attrs.keys()"
   ]
  },
  {
   "cell_type": "code",
   "execution_count": 22,
   "id": "4b985bdd",
   "metadata": {},
   "outputs": [
    {
     "name": "stdout",
     "output_type": "stream",
     "text": [
      "<HDF5 dataset \"time_dependent\": shape (), type \"|b1\">\n"
     ]
    }
   ],
   "source": [
    "td = f1['time_dependent']\n",
    "print(td)"
   ]
  },
  {
   "cell_type": "code",
   "execution_count": 23,
   "id": "7a9175d5",
   "metadata": {},
   "outputs": [
    {
     "data": {
      "text/plain": [
       "<KeysViewHDF5 ['is_list', 'is_ndarray', 'is_str', 'is_tuple']>"
      ]
     },
     "execution_count": 23,
     "metadata": {},
     "output_type": "execute_result"
    }
   ],
   "source": [
    "td.attrs.keys()"
   ]
  },
  {
   "cell_type": "code",
   "execution_count": 24,
   "id": "3eec1ee8",
   "metadata": {},
   "outputs": [
    {
     "data": {
      "text/plain": [
       "ItemsViewHDF5(<HDF5 file \"anastasio2D-TrueModel-prostate-1-001-Copy1.h5\" (mode r+)>)"
      ]
     },
     "execution_count": 24,
     "metadata": {},
     "output_type": "execute_result"
    }
   ],
   "source": [
    "f1.items()"
   ]
  },
  {
   "cell_type": "code",
   "execution_count": 25,
   "id": "41388f3d",
   "metadata": {},
   "outputs": [],
   "source": [
    "#data[...] = d"
   ]
  },
  {
   "cell_type": "code",
   "execution_count": 26,
   "id": "cc56ec2f",
   "metadata": {},
   "outputs": [],
   "source": [
    "#f1.close() "
   ]
  },
  {
   "cell_type": "code",
   "execution_count": 27,
   "id": "91bf3a81",
   "metadata": {},
   "outputs": [],
   "source": [
    "x = np.random.random(size = (256, 256))"
   ]
  },
  {
   "cell_type": "code",
   "execution_count": 28,
   "id": "81ccd1ea",
   "metadata": {},
   "outputs": [],
   "source": [
    "# v_init = np.ones((150,150))\n",
    "\n",
    "# v_init = 2500*v_init\n",
    "# for j in range(0,150):\n",
    "#     for i in range(0,150):\n",
    "#         if j<75:\n",
    "#             v_init[i,j]=3500\n",
    "# print(v_init)\n",
    "# x = v_init"
   ]
  },
  {
   "cell_type": "code",
   "execution_count": 29,
   "id": "059e3b6e",
   "metadata": {},
   "outputs": [
    {
     "name": "stdout",
     "output_type": "stream",
     "text": [
      "[[2600.2 2054.2  133.7 ...  633.6 1643.9  147.4]\n",
      " [2088.2 1168.4 2137.1 ... 1088.6 1394.7 2899.2]\n",
      " [1620.2 1992.9 1588.9 ...  660.9  545.5 1336.8]\n",
      " ...\n",
      " [2607.8   72.5 2239.3 ... 1772.2 2711.9 1026.9]\n",
      " [ 425.  2501.3  468.1 ... 1958.2  165.4  217.8]\n",
      " [2784.5 1551.9  170.8 ... 2194.2 1916.4 1093.3]]\n"
     ]
    }
   ],
   "source": [
    "x = x*3000\n",
    "\n",
    "x = x.astype('float32')\n",
    "x=x.round(decimals=1)\n",
    "print(x)"
   ]
  },
  {
   "cell_type": "code",
   "execution_count": 30,
   "id": "e4e736e3",
   "metadata": {},
   "outputs": [
    {
     "data": {
      "text/plain": [
       "<matplotlib.image.AxesImage at 0x7f82d9ff7850>"
      ]
     },
     "execution_count": 30,
     "metadata": {},
     "output_type": "execute_result"
    },
    {
     "data": {
      "image/png": "[encoded data removed]",
      "text/plain": [
       "<Figure size 432x288 with 1 Axes>"
      ]
     },
     "metadata": {
      "needs_background": "light"
     },
     "output_type": "display_data"
    }
   ],
   "source": [
    "plt.imshow(x)"
   ]
  },
  {
   "cell_type": "code",
   "execution_count": 31,
   "id": "8aef32d5",
   "metadata": {},
   "outputs": [
    {
     "name": "stdout",
     "output_type": "stream",
     "text": [
      "<class 'numpy.float32'>\n"
     ]
    }
   ],
   "source": [
    "print(type(x[0][0]))"
   ]
  },
  {
   "cell_type": "code",
   "execution_count": 32,
   "id": "20d3d6d1",
   "metadata": {},
   "outputs": [],
   "source": [
    "hf = h5py.File('Med.h5', 'w')"
   ]
  },
  {
   "cell_type": "code",
   "execution_count": 33,
   "id": "d45c50e8",
   "metadata": {},
   "outputs": [],
   "source": [
    "k = hf.create_dataset('data', data=x,dtype=\"f4\")"
   ]
  },
  {
   "cell_type": "code",
   "execution_count": 34,
   "id": "2fb393dc",
   "metadata": {},
   "outputs": [],
   "source": [
    "k.attrs['is_list']=data.attrs['is_list']"
   ]
  },
  {
   "cell_type": "code",
   "execution_count": 35,
   "id": "c8f18230",
   "metadata": {},
   "outputs": [],
   "source": [
    "k.attrs['is_ndarray']=data.attrs['is_ndarray']"
   ]
  },
  {
   "cell_type": "code",
   "execution_count": 36,
   "id": "89dcf3f1",
   "metadata": {},
   "outputs": [],
   "source": [
    "k.attrs['is_str']=data.attrs['is_str']"
   ]
  },
  {
   "cell_type": "code",
   "execution_count": 37,
   "id": "8a370857",
   "metadata": {},
   "outputs": [],
   "source": [
    "k.attrs['is_tuple']=data.attrs['is_tuple']"
   ]
  },
  {
   "cell_type": "code",
   "execution_count": 38,
   "id": "929cd7b6",
   "metadata": {},
   "outputs": [],
   "source": [
    "data1 = hf['data'] "
   ]
  },
  {
   "cell_type": "code",
   "execution_count": 39,
   "id": "8012b2aa",
   "metadata": {},
   "outputs": [
    {
     "data": {
      "text/plain": [
       "<KeysViewHDF5 ['is_list', 'is_ndarray', 'is_str', 'is_tuple']>"
      ]
     },
     "execution_count": 39,
     "metadata": {},
     "output_type": "execute_result"
    }
   ],
   "source": [
    "data1.attrs.keys()"
   ]
  },
  {
   "cell_type": "code",
   "execution_count": 40,
   "id": "c08e0186",
   "metadata": {},
   "outputs": [],
   "source": [
    "l = hf.create_dataset('dtype', data=dt)"
   ]
  },
  {
   "cell_type": "code",
   "execution_count": 41,
   "id": "c5bb924e",
   "metadata": {},
   "outputs": [],
   "source": [
    "l.attrs['is_list']=dt.attrs['is_list']"
   ]
  },
  {
   "cell_type": "code",
   "execution_count": 42,
   "id": "241fc292",
   "metadata": {},
   "outputs": [],
   "source": [
    "l.attrs['is_ndarray']=dt.attrs['is_ndarray']"
   ]
  },
  {
   "cell_type": "code",
   "execution_count": 43,
   "id": "81062e45",
   "metadata": {},
   "outputs": [],
   "source": [
    "l.attrs['is_str']=dt.attrs['is_str']"
   ]
  },
  {
   "cell_type": "code",
   "execution_count": 44,
   "id": "d1400002",
   "metadata": {},
   "outputs": [],
   "source": [
    "l.attrs['is_tuple']=dt.attrs['is_tuple']"
   ]
  },
  {
   "cell_type": "code",
   "execution_count": 45,
   "id": "b1d225df",
   "metadata": {},
   "outputs": [
    {
     "data": {
      "text/plain": [
       "<KeysViewHDF5 ['is_list', 'is_ndarray', 'is_str', 'is_tuple']>"
      ]
     },
     "execution_count": 45,
     "metadata": {},
     "output_type": "execute_result"
    }
   ],
   "source": [
    "l.attrs.keys()"
   ]
  },
  {
   "cell_type": "code",
   "execution_count": 46,
   "id": "d1e4b17d",
   "metadata": {},
   "outputs": [],
   "source": [
    "m = hf.create_dataset('extended_shape', data=es)"
   ]
  },
  {
   "cell_type": "code",
   "execution_count": 47,
   "id": "1820ad62",
   "metadata": {},
   "outputs": [],
   "source": [
    "m.attrs['is_list']=es.attrs['is_list']"
   ]
  },
  {
   "cell_type": "code",
   "execution_count": 48,
   "id": "1a72323b",
   "metadata": {},
   "outputs": [],
   "source": [
    "m.attrs['is_ndarray']=es.attrs['is_ndarray']"
   ]
  },
  {
   "cell_type": "code",
   "execution_count": 49,
   "id": "80558f12",
   "metadata": {},
   "outputs": [],
   "source": [
    "m.attrs['is_str']=es.attrs['is_str']"
   ]
  },
  {
   "cell_type": "code",
   "execution_count": 50,
   "id": "969f41dc",
   "metadata": {},
   "outputs": [],
   "source": [
    "m.attrs['is_tuple']=es.attrs['is_tuple']"
   ]
  },
  {
   "cell_type": "code",
   "execution_count": 51,
   "id": "bf6b56b7",
   "metadata": {},
   "outputs": [
    {
     "data": {
      "text/plain": [
       "<KeysViewHDF5 ['is_list', 'is_ndarray', 'is_str', 'is_tuple']>"
      ]
     },
     "execution_count": 51,
     "metadata": {},
     "output_type": "execute_result"
    }
   ],
   "source": [
    "m.attrs.keys()"
   ]
  },
  {
   "cell_type": "code",
   "execution_count": 52,
   "id": "ce2b5b87",
   "metadata": {},
   "outputs": [],
   "source": [
    "n = hf.create_dataset('inner', data=inn)"
   ]
  },
  {
   "cell_type": "code",
   "execution_count": 53,
   "id": "b6180607",
   "metadata": {},
   "outputs": [],
   "source": [
    "n.attrs['is_list']=inn.attrs['is_list']"
   ]
  },
  {
   "cell_type": "code",
   "execution_count": 54,
   "id": "dff039fc",
   "metadata": {},
   "outputs": [],
   "source": [
    "n.attrs['is_ndarray']=inn.attrs['is_ndarray']"
   ]
  },
  {
   "cell_type": "code",
   "execution_count": 55,
   "id": "a16e121d",
   "metadata": {},
   "outputs": [],
   "source": [
    "n.attrs['is_str']=inn.attrs['is_str']"
   ]
  },
  {
   "cell_type": "code",
   "execution_count": 56,
   "id": "7e8f2872",
   "metadata": {},
   "outputs": [],
   "source": [
    "n.attrs['is_tuple']=inn.attrs['is_tuple']"
   ]
  },
  {
   "cell_type": "code",
   "execution_count": 57,
   "id": "b4eb2201",
   "metadata": {},
   "outputs": [
    {
     "data": {
      "text/plain": [
       "<KeysViewHDF5 ['is_list', 'is_ndarray', 'is_str', 'is_tuple']>"
      ]
     },
     "execution_count": 57,
     "metadata": {},
     "output_type": "execute_result"
    }
   ],
   "source": [
    "n.attrs.keys()"
   ]
  },
  {
   "cell_type": "code",
   "execution_count": 58,
   "id": "5e0f9417",
   "metadata": {},
   "outputs": [],
   "source": [
    "o = hf.create_dataset('shape', data=sh)"
   ]
  },
  {
   "cell_type": "code",
   "execution_count": 59,
   "id": "41930fed",
   "metadata": {},
   "outputs": [],
   "source": [
    "o.attrs['is_list']=sh.attrs['is_list']"
   ]
  },
  {
   "cell_type": "code",
   "execution_count": 60,
   "id": "77c4fdc7",
   "metadata": {},
   "outputs": [],
   "source": [
    "o.attrs['is_ndarray']=sh.attrs['is_ndarray']"
   ]
  },
  {
   "cell_type": "code",
   "execution_count": 61,
   "id": "69a5740b",
   "metadata": {},
   "outputs": [],
   "source": [
    "o.attrs['is_str']=sh.attrs['is_str']"
   ]
  },
  {
   "cell_type": "code",
   "execution_count": 62,
   "id": "4f9ed501",
   "metadata": {},
   "outputs": [],
   "source": [
    "o.attrs['is_tuple']=sh.attrs['is_tuple']"
   ]
  },
  {
   "cell_type": "code",
   "execution_count": 63,
   "id": "22a164ae",
   "metadata": {},
   "outputs": [
    {
     "data": {
      "text/plain": [
       "<KeysViewHDF5 ['is_list', 'is_ndarray', 'is_str', 'is_tuple']>"
      ]
     },
     "execution_count": 63,
     "metadata": {},
     "output_type": "execute_result"
    }
   ],
   "source": [
    "o.attrs.keys()"
   ]
  },
  {
   "cell_type": "code",
   "execution_count": 64,
   "id": "1cbbe5ab",
   "metadata": {},
   "outputs": [],
   "source": [
    "# g1=hf.create_group('space')\n",
    "# g1=s"
   ]
  },
  {
   "cell_type": "code",
   "execution_count": 65,
   "id": "549abc84",
   "metadata": {},
   "outputs": [],
   "source": [
    "# g1"
   ]
  },
  {
   "cell_type": "code",
   "execution_count": 66,
   "id": "f9932495",
   "metadata": {},
   "outputs": [],
   "source": [
    "# print(g1.keys())"
   ]
  },
  {
   "cell_type": "code",
   "execution_count": 67,
   "id": "061b6fc9",
   "metadata": {},
   "outputs": [],
   "source": [
    "# g1.attrs['is_array']=s.attrs['is_array']"
   ]
  },
  {
   "cell_type": "code",
   "execution_count": 68,
   "id": "9db2406e",
   "metadata": {},
   "outputs": [],
   "source": [
    "# g1.attrs.keys()"
   ]
  },
  {
   "cell_type": "code",
   "execution_count": 69,
   "id": "d18ec215",
   "metadata": {},
   "outputs": [
    {
     "data": {
      "text/plain": [
       "<HDF5 group \"/space\" (0 members)>"
      ]
     },
     "execution_count": 69,
     "metadata": {},
     "output_type": "execute_result"
    }
   ],
   "source": [
    "hf.create_group('space',s)"
   ]
  },
  {
   "cell_type": "code",
   "execution_count": null,
   "id": "dac32efb",
   "metadata": {},
   "outputs": [],
   "source": []
  },
  {
   "cell_type": "code",
   "execution_count": 70,
   "id": "85a110f9",
   "metadata": {},
   "outputs": [],
   "source": [
    "hf['space'].attrs['is_array']=s.attrs['is_array']"
   ]
  },
  {
   "cell_type": "code",
   "execution_count": 71,
   "id": "310f3831",
   "metadata": {},
   "outputs": [],
   "source": [
    "fff = hf['space']"
   ]
  },
  {
   "cell_type": "code",
   "execution_count": 72,
   "id": "854eed37",
   "metadata": {},
   "outputs": [
    {
     "data": {
      "text/plain": [
       "<KeysViewHDF5 ['is_array']>"
      ]
     },
     "execution_count": 72,
     "metadata": {},
     "output_type": "execute_result"
    }
   ],
   "source": [
    "fff.attrs.keys()"
   ]
  },
  {
   "cell_type": "code",
   "execution_count": 73,
   "id": "72f46d86",
   "metadata": {},
   "outputs": [
    {
     "data": {
      "text/plain": [
       "<KeysViewHDF5 []>"
      ]
     },
     "execution_count": 73,
     "metadata": {},
     "output_type": "execute_result"
    }
   ],
   "source": [
    "fff.keys()"
   ]
  },
  {
   "cell_type": "code",
   "execution_count": 74,
   "id": "39f8b981",
   "metadata": {},
   "outputs": [],
   "source": [
    "# g2=hf.create_group('time')\n",
    "# g2=t"
   ]
  },
  {
   "cell_type": "code",
   "execution_count": 75,
   "id": "d082d08f",
   "metadata": {},
   "outputs": [],
   "source": [
    "# g2"
   ]
  },
  {
   "cell_type": "code",
   "execution_count": 76,
   "id": "b3e13927",
   "metadata": {},
   "outputs": [],
   "source": [
    "# g2.attrs['is_array']=t.attrs['is_array']"
   ]
  },
  {
   "cell_type": "code",
   "execution_count": 77,
   "id": "25541cf9",
   "metadata": {},
   "outputs": [],
   "source": [
    "# g2.attrs.keys()"
   ]
  },
  {
   "cell_type": "code",
   "execution_count": 78,
   "id": "3442a2f9",
   "metadata": {},
   "outputs": [
    {
     "data": {
      "text/plain": [
       "<HDF5 group \"/time\" (0 members)>"
      ]
     },
     "execution_count": 78,
     "metadata": {},
     "output_type": "execute_result"
    }
   ],
   "source": [
    "hf.create_group('time',t)"
   ]
  },
  {
   "cell_type": "code",
   "execution_count": 79,
   "id": "d11d1809",
   "metadata": {},
   "outputs": [],
   "source": [
    "hf['time'].attrs['is_array']=t.attrs['is_array']"
   ]
  },
  {
   "cell_type": "code",
   "execution_count": 80,
   "id": "fbf02cca",
   "metadata": {},
   "outputs": [],
   "source": [
    "q = hf.create_dataset('time_dependent', data=td)"
   ]
  },
  {
   "cell_type": "code",
   "execution_count": 81,
   "id": "56522dac",
   "metadata": {},
   "outputs": [],
   "source": [
    "q.attrs['is_list']=td.attrs['is_list']"
   ]
  },
  {
   "cell_type": "code",
   "execution_count": 82,
   "id": "90c9535a",
   "metadata": {},
   "outputs": [],
   "source": [
    "q.attrs['is_ndarray']=td.attrs['is_ndarray']"
   ]
  },
  {
   "cell_type": "code",
   "execution_count": 83,
   "id": "c350c7fc",
   "metadata": {},
   "outputs": [],
   "source": [
    "q.attrs['is_str']=td.attrs['is_str']"
   ]
  },
  {
   "cell_type": "code",
   "execution_count": 84,
   "id": "d69cc1a2",
   "metadata": {},
   "outputs": [],
   "source": [
    "q.attrs['is_tuple']=td.attrs['is_tuple']"
   ]
  },
  {
   "cell_type": "code",
   "execution_count": 85,
   "id": "7c3e3e94",
   "metadata": {},
   "outputs": [
    {
     "data": {
      "text/plain": [
       "<KeysViewHDF5 ['is_list', 'is_ndarray', 'is_str', 'is_tuple']>"
      ]
     },
     "execution_count": 85,
     "metadata": {},
     "output_type": "execute_result"
    }
   ],
   "source": [
    "q.attrs.keys()"
   ]
  },
  {
   "cell_type": "code",
   "execution_count": 86,
   "id": "6fa8a462",
   "metadata": {},
   "outputs": [],
   "source": [
    "#hf['dtype']= dt"
   ]
  },
  {
   "cell_type": "code",
   "execution_count": 87,
   "id": "980ab831",
   "metadata": {},
   "outputs": [
    {
     "name": "stdout",
     "output_type": "stream",
     "text": [
      "<KeysViewHDF5 ['data', 'dtype', 'extended_shape', 'inner', 'shape', 'space', 'time', 'time_dependent']>\n"
     ]
    }
   ],
   "source": [
    "print(hf.keys())"
   ]
  },
  {
   "cell_type": "code",
   "execution_count": 88,
   "id": "3931c2f7",
   "metadata": {},
   "outputs": [
    {
     "data": {
      "text/plain": [
       "<KeysViewHDF5 ['data', 'dtype', 'extended_shape', 'inner', 'shape', 'space', 'time', 'time_dependent']>"
      ]
     },
     "execution_count": 88,
     "metadata": {},
     "output_type": "execute_result"
    }
   ],
   "source": [
    "f1.keys()"
   ]
  },
  {
   "cell_type": "code",
   "execution_count": 89,
   "id": "78a0bb9c",
   "metadata": {},
   "outputs": [
    {
     "data": {
      "text/plain": [
       "<KeysViewHDF5 ['data', 'dtype', 'extended_shape', 'inner', 'shape', 'space', 'time', 'time_dependent']>"
      ]
     },
     "execution_count": 89,
     "metadata": {},
     "output_type": "execute_result"
    }
   ],
   "source": [
    "hf.keys()"
   ]
  },
  {
   "cell_type": "code",
   "execution_count": 90,
   "id": "53d5ac57",
   "metadata": {},
   "outputs": [
    {
     "data": {
      "text/plain": [
       "ValuesViewHDF5(<HDF5 file \"anastasio2D-TrueModel-prostate-1-001-Copy1.h5\" (mode r+)>)"
      ]
     },
     "execution_count": 90,
     "metadata": {},
     "output_type": "execute_result"
    }
   ],
   "source": [
    "f1.values()"
   ]
  },
  {
   "cell_type": "code",
   "execution_count": 91,
   "id": "7428da15",
   "metadata": {},
   "outputs": [
    {
     "data": {
      "text/plain": [
       "ValuesViewHDF5(<HDF5 file \"Med.h5\" (mode r+)>)"
      ]
     },
     "execution_count": 91,
     "metadata": {},
     "output_type": "execute_result"
    }
   ],
   "source": [
    "hf.values()"
   ]
  },
  {
   "cell_type": "code",
   "execution_count": 92,
   "id": "82da3e7c",
   "metadata": {},
   "outputs": [
    {
     "data": {
      "text/plain": [
       "ItemsViewHDF5(<HDF5 file \"anastasio2D-TrueModel-prostate-1-001-Copy1.h5\" (mode r+)>)"
      ]
     },
     "execution_count": 92,
     "metadata": {},
     "output_type": "execute_result"
    }
   ],
   "source": [
    "f1.items()"
   ]
  },
  {
   "cell_type": "code",
   "execution_count": 93,
   "id": "137c84ed",
   "metadata": {},
   "outputs": [
    {
     "data": {
      "text/plain": [
       "ItemsViewHDF5(<HDF5 file \"Med.h5\" (mode r+)>)"
      ]
     },
     "execution_count": 93,
     "metadata": {},
     "output_type": "execute_result"
    }
   ],
   "source": [
    "hf.items()"
   ]
  },
  {
   "cell_type": "code",
   "execution_count": 94,
   "id": "6e8bd63c",
   "metadata": {},
   "outputs": [
    {
     "data": {
      "text/plain": [
       "<KeysViewHDF5 ['datetime', 'is_array', 'protocol']>"
      ]
     },
     "execution_count": 94,
     "metadata": {},
     "output_type": "execute_result"
    }
   ],
   "source": [
    "f1.attrs.keys()"
   ]
  },
  {
   "cell_type": "code",
   "execution_count": 95,
   "id": "045289de",
   "metadata": {},
   "outputs": [
    {
     "data": {
      "text/plain": [
       "<KeysViewHDF5 []>"
      ]
     },
     "execution_count": 95,
     "metadata": {},
     "output_type": "execute_result"
    }
   ],
   "source": [
    "hf.attrs.keys()"
   ]
  },
  {
   "cell_type": "code",
   "execution_count": 96,
   "id": "4c23cca3",
   "metadata": {},
   "outputs": [],
   "source": [
    "hf.attrs['datetime']=f1.attrs['datetime']"
   ]
  },
  {
   "cell_type": "code",
   "execution_count": 97,
   "id": "03c44ce1",
   "metadata": {},
   "outputs": [],
   "source": [
    "hf.attrs['is_array']=f1.attrs['is_array']"
   ]
  },
  {
   "cell_type": "code",
   "execution_count": 98,
   "id": "c4b53b41",
   "metadata": {},
   "outputs": [],
   "source": [
    "hf.attrs['protocol']=f1.attrs['protocol']"
   ]
  },
  {
   "cell_type": "code",
   "execution_count": null,
   "id": "bdda6328",
   "metadata": {},
   "outputs": [],
   "source": []
  },
  {
   "cell_type": "code",
   "execution_count": 99,
   "id": "9987e536",
   "metadata": {},
   "outputs": [
    {
     "data": {
      "text/plain": [
       "<KeysViewHDF5 ['datetime', 'is_array', 'protocol']>"
      ]
     },
     "execution_count": 99,
     "metadata": {},
     "output_type": "execute_result"
    }
   ],
   "source": [
    "hf.attrs.keys()"
   ]
  },
  {
   "cell_type": "code",
   "execution_count": 100,
   "id": "748f0810",
   "metadata": {},
   "outputs": [],
   "source": [
    "f1.close() "
   ]
  },
  {
   "cell_type": "code",
   "execution_count": 101,
   "id": "150ae7b6",
   "metadata": {},
   "outputs": [],
   "source": [
    "hf.close() "
   ]
  },
  {
   "cell_type": "code",
   "execution_count": null,
   "id": "aaf46090",
   "metadata": {},
   "outputs": [],
   "source": []
  },
  {
   "cell_type": "code",
   "execution_count": null,
   "id": "fe094c21",
   "metadata": {},
   "outputs": [],
   "source": []
  },
  {
   "cell_type": "code",
   "execution_count": null,
   "id": "4cfe06b7",
   "metadata": {},
   "outputs": [],
   "source": []
  },
  {
   "cell_type": "code",
   "execution_count": null,
   "id": "b594962e",
   "metadata": {},
   "outputs": [],
   "source": []
  },
  {
   "cell_type": "code",
   "execution_count": null,
   "id": "a7caccad",
   "metadata": {},
   "outputs": [],
   "source": []
  }
 ],
 "metadata": {
  "kernelspec": {
   "display_name": "stride",
   "language": "python",
   "name": "stride"
  },
  "language_info": {
   "codemirror_mode": {
    "name": "ipython",
    "version": 3
   },
   "file_extension": ".py",
   "mimetype": "text/x-python",
   "name": "python",
   "nbconvert_exporter": "python",
   "pygments_lexer": "ipython3",
   "version": "3.7.8"
  }
 },
 "nbformat": 4,
 "nbformat_minor": 5
}
